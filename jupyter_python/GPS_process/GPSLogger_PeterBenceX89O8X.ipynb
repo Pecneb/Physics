{
 "cells": [
  {
   "cell_type": "markdown",
   "id": "649d4f6c-9cbb-425a-9e7a-e3b713c552d4",
   "metadata": {},
   "source": [
    "# GPS-Logger elemzo Peter Bence X89O8X"
   ]
  },
  {
   "cell_type": "markdown",
   "id": "0683c6da-9b64-44df-aec1-1689123b52ef",
   "metadata": {},
   "source": [
    "## Feladatok\n",
    "\n",
    "1. Megadva egy v_max sebességhatárt, megállapítja, hány másodpercig volt a mozgás sebesség-nagysága ennél nagyobb.\n",
    "2. Kiszámolja azt is, hogy mennyivel nőtt volna meg a menetidő, ha azonos útvonalon mennénk, de ahol átléptük v_max-ot, ott csak v_max-szal mentünk volna.\n",
    "\n",
    "## Felhasznalt txt file-ok\n",
    "\n",
    "* vezetes-1.txt\n",
    "* vezetes-2.txt"
   ]
  },
  {
   "cell_type": "code",
   "execution_count": 79,
   "id": "42f49347-7f65-4e9e-a7ca-b5dd1c2a1691",
   "metadata": {},
   "outputs": [],
   "source": [
    "from sympy import *\n",
    "import numpy as np\n",
    "import matplotlib.pyplot as plt\n",
    "import time\n",
    "%matplotlib inline"
   ]
  },
  {
   "cell_type": "code",
   "execution_count": 8,
   "id": "80ab3629-4677-4391-b4c4-da3346f262ba",
   "metadata": {},
   "outputs": [],
   "source": [
    "# numerikus derivalo fuggveny derivalas bal-, jobboldali es centralis kozelitessel\n",
    "def deriv(xx_tab, ff_tab): # xx_tab ido tablazat, ff_tab f(t) tablazat\n",
    "    N=xx_tab.shape[0]\n",
    "    dff_dxx=np.zeros(N, np.float64)  # a deriváltak tömbje\n",
    "    for i in range(N):\n",
    "        if i==0:        # bal széle\n",
    "            deriv=(ff_tab[1]-ff_tab[0])/(xx_tab[1]-xx_tab[0])\n",
    "        elif i==N-1:    # jobb széle\n",
    "            deriv=(ff_tab[N-1]-ff_tab[N-2])/(xx_tab[N-1]-xx_tab[N-2])\n",
    "        else:          # közepe\n",
    "            deriv=(ff_tab[i+1]-ff_tab[i-1])/(xx_tab[i+1]-xx_tab[i-1])\n",
    "        dff_dxx[i]=deriv\n",
    "    return(dff_dxx)"
   ]
  },
  {
   "cell_type": "code",
   "execution_count": 10,
   "id": "786ee8b7-5e42-4851-b7f8-5e952c4d862d",
   "metadata": {},
   "outputs": [],
   "source": [
    "# numerikus integralo fuggveny, F0 kezdeti ertek\n",
    "def integral(xx_tab, ff_tab, F0=0.0): # xx_tab ido tablazat, ff_tab f(t) tablazat, ks pedig a kozeliteshez hasznalt sema\n",
    "    N=xx_tab.shape[0]\n",
    "    Ff_tab=np.zeros(N, dtype=np.float64)\n",
    "    Ff_tab=F0\n",
    "    for i in range(1,N):\n",
    "        intff[i]=intff[i-1]+(xx_tab[i]-xx_tab[i-1])*(ff_tab[i]+ff_tab[i-1])/2.0\n",
    "    return(intff)"
   ]
  },
  {
   "cell_type": "code",
   "execution_count": 131,
   "id": "edef070f-52f3-43c7-98dc-fb8211c3ae6e",
   "metadata": {},
   "outputs": [
    {
     "data": {
      "text/plain": [
       "'2'"
      ]
     },
     "execution_count": 131,
     "metadata": {},
     "output_type": "execute_result"
    }
   ],
   "source": [
    "# Adatok beolvasasa\n",
    "filename = 'vezetes-1.txt'\n",
    "data = np.genfromtxt(filename, delimiter=',', skip_header=1, dtype=str)\n",
    "v_tab = data[:,7].astype(np.float64)\n",
    "t_tab = str(data[:,1])\n"
   ]
  },
  {
   "cell_type": "code",
   "execution_count": null,
   "id": "8bf0b414-e0c1-4de1-b152-f91e215ed538",
   "metadata": {},
   "outputs": [],
   "source": []
  }
 ],
 "metadata": {
  "kernelspec": {
   "display_name": "Python 3 (ipykernel)",
   "language": "python",
   "name": "python3"
  },
  "language_info": {
   "codemirror_mode": {
    "name": "ipython",
    "version": 3
   },
   "file_extension": ".py",
   "mimetype": "text/x-python",
   "name": "python",
   "nbconvert_exporter": "python",
   "pygments_lexer": "ipython3",
   "version": "3.9.7"
  }
 },
 "nbformat": 4,
 "nbformat_minor": 5
}
