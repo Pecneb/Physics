{
 "cells": [
  {
   "cell_type": "code",
   "execution_count": 20,
   "id": "fbc5aa1c",
   "metadata": {},
   "outputs": [],
   "source": [
    "'''\n",
    "Szorgalmi feladat: Példamegoldás SymPy-vel\n",
    "Peter Bence X89O8X\n",
    "'''\n",
    "import numpy as np\n",
    "import matplotlib.pyplot as plt\n",
    "import sympy as sp\n",
    "sp.init_printing(use_unicode=True)\n",
    "%matplotlib inline\n",
    "\n",
    "M = 5 # test tomege"
   ]
  },
  {
   "cell_type": "code",
   "execution_count": 21,
   "id": "10533e4c",
   "metadata": {},
   "outputs": [],
   "source": [
    "'''\n",
    "F(t) fuggveny implementalasa\n",
    "m = tomeg (kg)\n",
    "t = ido (s)\n",
    "F = ero (N) <-- F = a * m\n",
    "a = ?\n",
    "a = dv/dt\n",
    "Feladat azt is definialta, ha az ero nagysaga eleri a 0-at akkor 0 is marad\n",
    "'''\n",
    "def F(t):\n",
    "    F_t = (10-0.5*(t**2))\n",
    "    if F_t >= 0:\n",
    "        return F_t\n",
    "    else:\n",
    "        return 0\n",
    "\n",
    "'''\n",
    "a(t) fuggvenyt ki lehet szamolni az F = a*m bol\n",
    "tehat ha tudjuk a test tomeget, akkor ki lehet szamolni\n",
    "a gyorsulast az adott t idopontban\n",
    "'''\n",
    "def a(t):\n",
    "    return ((F(t)/M))\n",
    "\n",
    "'''\n",
    "az a(t) bol megkaphatjuk a v(t) fuggvenyt\n",
    "ha integraljuk a(t) fuggvenyt kozelitessel\n",
    "az integralast lehet kozeliteni a simpson forumaval\n",
    "a es b a t(s) idot jelenti\n",
    "f pedig a kozeliteni kivant fuggveny\n",
    "'''\n",
    "def simpson(f, a, b):\n",
    "    return (((b-a)/6)*(f(a)+4*f((a+b)/2)+f(b)))\n",
    "\n",
    "'''\n",
    "Integralas osszetett simpson formulaval\n",
    "f kozeliteni kivant fuggveny\n",
    "a = t0 b = tN\n",
    "h lepeskoz\n",
    "'''\n",
    "def osszSimpson(f, x):\n",
    "    ret = 0.0\n",
    "    for i in range(len(x)-1):\n",
    "        ret += simpson(f, x[i], x[i+1])\n",
    "    return ret"
   ]
  },
  {
   "cell_type": "code",
   "execution_count": 22,
   "id": "00bda137",
   "metadata": {
    "scrolled": false
   },
   "outputs": [
    {
     "data": {
      "text/plain": [
       "[<matplotlib.lines.Line2D at 0x7f3163599520>]"
      ]
     },
     "execution_count": 22,
     "metadata": {},
     "output_type": "execute_result"
    },
    {
     "data": {
      "image/png": "[encoded data removed]",
      "text/plain": [
       "<Figure size 792x792 with 2 Axes>"
      ]
     },
     "metadata": {
      "needs_background": "light"
     },
     "output_type": "display_data"
    }
   ],
   "source": [
    "t_max = 10.0 # max t(s)\n",
    "dt = 0.01 # dt idokoz\n",
    "t_vec = np.arange(0.0, t_max, dt, dtype=np.float16)\n",
    "F_t = np.vectorize(F)(t_vec)\n",
    "a_t = np.vectorize(a)(t_vec)\n",
    "fig1 = plt.figure(figsize=(11,11))\n",
    "ax1 = fig1.add_subplot(411)\n",
    "ax1.set_ylabel('a(t)')\n",
    "ax1.plot(t_vec, a_t)\n",
    "ax2 = fig1.add_subplot(412)\n",
    "ax2.set_ylabel('F(t)')\n",
    "ax2.plot(t_vec, F_t)\n",
    "# ax3 = fig1.add_subplot(413)\n",
    "# ax3.set_ylabel('v(t)')\n",
    "# ax3.plot(t_vec, v_t)\n",
    "# for i in range(len(F_t)):\n",
    "#    print(\"t %.2f F_t %.2f a_t %.2f v_t %.2f\"%(t_vec[i], F_t[i], a_t[i], v_t[i]))"
   ]
  },
  {
   "cell_type": "code",
   "execution_count": 23,
   "id": "ce8c45eb",
   "metadata": {
    "scrolled": true
   },
   "outputs": [
    {
     "name": "stdout",
     "output_type": "stream",
     "text": [
      "A test sebessege 4.47 s-ig no.\n"
     ]
    }
   ],
   "source": [
    "# Hany masodpercig no a test sebessege?\n",
    "t_veg = 0\n",
    "i = 0\n",
    "while a_t[i] != 0:\n",
    "    i += 1\n",
    "t_veg = t_vec[i]\n",
    "print(\"A test sebessege %.2f s-ig no.\"%t_veg)"
   ]
  },
  {
   "cell_type": "code",
   "execution_count": 24,
   "id": "7735441e",
   "metadata": {},
   "outputs": [
    {
     "name": "stdout",
     "output_type": "stream",
     "text": [
      "Test vegsebessege: 5.96 m/s\n"
     ]
    }
   ],
   "source": [
    "# Mekkora a test vegsebessege? (Osszetett simpson formulaval kozelitettem az integralast.\n",
    "# a_t integraltja a delta v)\n",
    "v_delta = osszSimpson(a, t_vec)\n",
    "print(\"Test vegsebessege: %.2f m/s\"%v_delta)"
   ]
  },
  {
   "cell_type": "code",
   "execution_count": 25,
   "id": "3593de1a",
   "metadata": {},
   "outputs": [
    {
     "name": "stdout",
     "output_type": "stream",
     "text": [
      "16.68 m-re tavolodott el.\n"
     ]
    }
   ],
   "source": [
    "# Mennyire tavolodott el a kezdo helyzettol addig, amig elerte a vegsebesseget.\n",
    "def v_nov(f, t_vec): # sebesseg tablazat amig el nem erte a vegsebesseget\n",
    "    v_vec = np.empty((0))\n",
    "    for i in range(len(t_vec)):\n",
    "        if t_vec[i] <= t_veg:\n",
    "            v_vec = np.append(v_vec, simpson(f, 0.0, t_vec[i]))\n",
    "        else:\n",
    "            break\n",
    "    return v_vec\n",
    "\n",
    "t_sebnov = np.arange(0.0, t_veg, dt)\n",
    "v_t = v_nov(a, t_sebnov)\n",
    "# fig2 = plt.figure() # ez csak edrekesseg kedveert, ki lehet rajzolni v_t-t \n",
    "# ax1 = fig2.add_subplot()\n",
    "# ax1.plot(t_sebnov, v_t)\n",
    "\n",
    "def x(v_vec): # \n",
    "    x_t = 0.0\n",
    "    for i in range(len(v_vec)):\n",
    "        x_t += (v_vec[i])*dt\n",
    "    return x_t\n",
    "\n",
    "x_t = x(v_t)\n",
    "print(\"%.2f m-re tavolodott el.\"%x_t)"
   ]
  },
  {
   "cell_type": "code",
   "execution_count": 26,
   "id": "eb6c0a9f",
   "metadata": {
    "scrolled": true
   },
   "outputs": [
    {
     "name": "stdout",
     "output_type": "stream",
     "text": [
      "a(t)-t ugy kapjuk meg ha F(t)-t osztjuk a tomeggel: 2 - 0.1*t**2\n"
     ]
    }
   ],
   "source": [
    "# Feladat megoldasa formalis derivalassal\n",
    "t, a, m, v, x = sp.symbols('t a m v x')\n",
    "F_tf = sp.sympify(\"10 - 0.5 * t**2\")\n",
    "a_tf = F_tf / 5 # a_tf-et ugy kapjuk meg ha F=a*m bol leosztunk m-el es megkapjuk a-t\n",
    "print(\"a(t)-t ugy kapjuk meg ha F(t)-t osztjuk a tomeggel: %s\"%a_tf)"
   ]
  },
  {
   "cell_type": "code",
   "execution_count": 27,
   "id": "c7df909c",
   "metadata": {},
   "outputs": [
    {
     "name": "stdout",
     "output_type": "stream",
     "text": [
      "A testnek 4.47 s-ig no a sebessge.\n"
     ]
    }
   ],
   "source": [
    "# Hany masodpercig no a test sebessege?\n",
    "# Amig a gyorsulas nem lesz nulla.\n",
    "t_vegseb = sp.solveset(a_tf - 0, t)\n",
    "for mo in t_vegseb: # itt kivalasztjuk azt a megoldast ami nagyobb mint 0\n",
    "    if mo > 0:\n",
    "        t_vegseb = mo\n",
    "        print(\"A testnek %.2f s-ig no a sebessge.\"%t_vegseb)"
   ]
  },
  {
   "cell_type": "code",
   "execution_count": 28,
   "id": "027a06ca",
   "metadata": {},
   "outputs": [
    {
     "name": "stdout",
     "output_type": "stream",
     "text": [
      "A test vegsebessege 5.96 m/s.\n"
     ]
    },
    {
     "data": {
      "image/png": "[encoded data removed]",
      "text/latex": [
       "$\\displaystyle t \\left(2.0 - 0.0333333333333333 t^{2}\\right)$"
      ],
      "text/plain": [
       "  ⎛                          2⎞\n",
       "t⋅⎝2.0 - 0.0333333333333333⋅t ⎠"
      ]
     },
     "execution_count": 28,
     "metadata": {},
     "output_type": "execute_result"
    }
   ],
   "source": [
    "# Mekkora a test vegsebessege?\n",
    "# Ezt ugy kapjuk meg hogy ha a(t)-t integraljuk \n",
    "# a t0-tol addig az idopontig aimg no a sebessege. (Elozo feladatreszben megadtuk)\n",
    "v_t = sp.integrate(a_tf, (t)) + sp.integrate(a_tf, (t, 0))\n",
    "print(\"A test vegsebessege %.2f m/s.\"%v_t.subs(t, t_vegseb))\n",
    "sp.simplify(v_t)"
   ]
  },
  {
   "cell_type": "code",
   "execution_count": 19,
   "id": "d5b8163a",
   "metadata": {},
   "outputs": [
    {
     "name": "stdout",
     "output_type": "stream",
     "text": [
      "A test 16.67 m-re tavolodott el.\n"
     ]
    }
   ],
   "source": [
    "# Mennyire távolodott el a kezdo helyzettol addig, amíg elérte a végsebességét?\n",
    "# x(t)-t ugy kapjuk meg ha integraljuk v(t)-t, t0 tol vegsebesseg elereseig\n",
    "a_megtett = sp.integrate(v_t, (t, 0, t_vegseb))\n",
    "print(\"A test %.2f m-re tavolodott el.\"%a_megtett)"
   ]
  }
 ],
 "metadata": {
  "kernelspec": {
   "display_name": "Python 3 (ipykernel)",
   "language": "python",
   "name": "python3"
  },
  "language_info": {
   "codemirror_mode": {
    "name": "ipython",
    "version": 3
   },
   "file_extension": ".py",
   "mimetype": "text/x-python",
   "name": "python",
   "nbconvert_exporter": "python",
   "pygments_lexer": "ipython3",
   "version": "3.9.7"
  }
 },
 "nbformat": 4,
 "nbformat_minor": 5
}
